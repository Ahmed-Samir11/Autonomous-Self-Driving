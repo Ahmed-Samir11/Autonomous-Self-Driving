{
  "nbformat": 4,
  "nbformat_minor": 0,
  "metadata": {
    "colab": {
      "provenance": [],
      "gpuType": "T4"
    },
    "kernelspec": {
      "name": "python3",
      "display_name": "Python 3"
    },
    "language_info": {
      "name": "python"
    },
    "accelerator": "GPU"
  },
  "cells": [
    {
      "cell_type": "markdown",
      "source": [
        "# Autonomous CV Project\n",
        "\n",
        "In this project, you will work on a computer vision task for autonomous driving. This project will guide you through the steps of preparing the data, building a deep learning model, training the model, and making predictions.\n",
        "\n",
        "## Project Steps Overview:\n",
        "1. **Data Preprocessing:** Load and preprocess the image data.\n",
        "2. **Data Augmentation:** Apply augmentation techniques to increase the dataset variability.\n",
        "3. **Model Building:** Define the CNN architecture using a deep learning framework.\n",
        "4. **Model Training:** Train the CNN model with the prepared data.\n",
        "5. **Prediction:** Use the trained model to make predictions on test data.\n",
        "\n",
        "Let's get started! Provided below is some code to help you get set up with the data and imports."
      ],
      "metadata": {
        "id": "TAuyFfO2v_QK"
      }
    },
    {
      "cell_type": "markdown",
      "source": [
        "### Importing Libraries\n",
        "First, import the necessary libraries for data manipulation, visualization, and model building."
      ],
      "metadata": {
        "id": "HSdA6Q44wPgn"
      }
    },
    {
      "cell_type": "code",
      "source": [
        "import torch\n",
        "import torch.nn as nn\n",
        "import torch.nn.functional as F\n",
        "import torch.optim as optim\n",
        "import torchvision.transforms as transforms\n",
        "from torchvision.datasets import ImageFolder\n",
        "from torch.utils.data import DataLoader, random_split, Subset\n",
        "from PIL import Image\n",
        "import os\n",
        "import numpy as np"
      ],
      "metadata": {
        "id": "YfDJDsG0GKi_"
      },
      "execution_count": 1,
      "outputs": []
    },
    {
      "cell_type": "code",
      "source": [
        "device = torch.device('cuda' if torch.cuda.is_available() else 'cpu')"
      ],
      "metadata": {
        "id": "Ggy6v6lyBFzf"
      },
      "execution_count": 20,
      "outputs": []
    },
    {
      "cell_type": "code",
      "source": [
        "from google.colab import drive\n",
        "drive.mount('/content/drive')"
      ],
      "metadata": {
        "colab": {
          "base_uri": "https://localhost:8080/"
        },
        "id": "KLl8pEM1if1E",
        "outputId": "91d5d0a3-f77a-4141-ffd4-ed16b1189688"
      },
      "execution_count": 2,
      "outputs": [
        {
          "output_type": "stream",
          "name": "stdout",
          "text": [
            "Mounted at /content/drive\n"
          ]
        }
      ]
    },
    {
      "cell_type": "markdown",
      "source": [
        "### Loading the Dataset\n",
        "\n",
        "Download and load the image dataset, and apply the necessary transformations. Make sure to adjust the path to your dataset."
      ],
      "metadata": {
        "id": "u6n5gtulwcES"
      }
    },
    {
      "cell_type": "code",
      "source": [
        "# Define data transforms\n",
        "data_transforms = transforms.Compose([\n",
        "    transforms.Resize((128, 128)),\n",
        "    transforms.ToTensor(),\n",
        "    transforms.Normalize(mean=[0.485, 0.456, 0.406], std=[0.229, 0.224, 0.225])\n",
        "])"
      ],
      "metadata": {
        "id": "nlxMrvK7GewT"
      },
      "execution_count": 3,
      "outputs": []
    },
    {
      "cell_type": "code",
      "source": [
        "# Load datasets\n",
        "train_dataset = ImageFolder(root=\"/content/drive/MyDrive/GTSRB/Train\", transform=data_transforms)"
      ],
      "metadata": {
        "id": "sVzyfMeBGgMQ"
      },
      "execution_count": 4,
      "outputs": []
    },
    {
      "cell_type": "code",
      "source": [
        "# Use a smaller portion of the dataset\n",
        "portion = 0.05  # Use 10% of the dataset for training and validation\n",
        "total_size = len(train_dataset)\n",
        "subset_size = int(portion * total_size)\n",
        "indices = np.random.choice(total_size, subset_size, replace=False)"
      ],
      "metadata": {
        "id": "KkWxDw-foAQ4"
      },
      "execution_count": 5,
      "outputs": []
    },
    {
      "cell_type": "code",
      "source": [
        "# Split the subset indices into training and validation sets\n",
        "train_size = int(0.8 * subset_size)\n",
        "val_size = subset_size - train_size\n",
        "train_indices = indices[:train_size]\n",
        "val_indices = indices[train_size:]"
      ],
      "metadata": {
        "id": "oAp6XGWOsPmp"
      },
      "execution_count": 6,
      "outputs": []
    },
    {
      "cell_type": "markdown",
      "source": [
        "### Preparing Data for CNN\n",
        "Create subsets for your train and validation data using the `Subset` from PyTorch, and then create the data loaders using PyTorch's `DataLoader`"
      ],
      "metadata": {
        "id": "XM-m4zPzw_qL"
      }
    },
    {
      "cell_type": "code",
      "source": [
        "train_subset = Subset(train_dataset, train_indices)\n",
        "val_subset = Subset(train_dataset, val_indices)"
      ],
      "metadata": {
        "id": "BB_SmoK0oOMu"
      },
      "execution_count": 15,
      "outputs": []
    },
    {
      "cell_type": "code",
      "source": [
        "batch_size = 32\n",
        "train_loader = DataLoader(train_subset, batch_size=batch_size, shuffle=True)\n",
        "val_loader = DataLoader(val_subset, batch_size=batch_size, shuffle=False)"
      ],
      "metadata": {
        "id": "fHpU71fbGjfz"
      },
      "execution_count": 16,
      "outputs": []
    },
    {
      "cell_type": "markdown",
      "source": [
        "# Model Building\n",
        "Define the CNN model architecture:\n",
        "1. **Define the model**: Create a class or function to define the CNN layers and architecture (hint: try using 3 convolutional layers, and play around with kernel_size and padding)\n",
        "3. **Compile the model**: Initialize the model, specify the loss function, optimizer, and evaluation metrics."
      ],
      "metadata": {
        "id": "vXG7ebzOx5Hc"
      }
    },
    {
      "cell_type": "code",
      "source": [
        "NUM_CATEGORIES = len(os.listdir(\"/content/drive/MyDrive/GTSRB/Train\"))\n",
        "NUM_CATEGORIES"
      ],
      "metadata": {
        "colab": {
          "base_uri": "https://localhost:8080/"
        },
        "id": "a1dBoZic__Hv",
        "outputId": "67f63956-401c-449a-b82a-f4b3e688cc78"
      },
      "execution_count": 11,
      "outputs": [
        {
          "output_type": "execute_result",
          "data": {
            "text/plain": [
              "43"
            ]
          },
          "metadata": {},
          "execution_count": 11
        }
      ]
    },
    {
      "cell_type": "code",
      "source": [
        "class CNNModel(nn.Module):\n",
        "    def __init__(self):\n",
        "        super(CNNModel, self).__init__()\n",
        "        self.conv1 = nn.Conv2d(3, 32, kernel_size=3, padding=1)\n",
        "        self.conv2 = nn.Conv2d(32, 64, kernel_size=3, padding=1)\n",
        "        self.conv3 = nn.Conv2d(64, 128, kernel_size=3, padding=1)\n",
        "        self.pool = nn.MaxPool2d(kernel_size=2, stride=2)\n",
        "        self.fc1 = nn.Linear(128 * 16 * 16, 512)\n",
        "        self.fc2 = nn.Linear(512, 43)\n",
        "\n",
        "    def forward(self, x):\n",
        "        x = self.pool(F.relu(self.conv1(x)))\n",
        "        x = self.pool(F.relu(self.conv2(x)))\n",
        "        x = self.pool(F.relu(self.conv3(x)))\n",
        "        x = x.view(-1, 128 * 16 * 16)\n",
        "        x = F.relu(self.fc1(x))\n",
        "        x = self.fc2(x)\n",
        "        return x"
      ],
      "metadata": {
        "id": "8Fq-EO56Gl7Q"
      },
      "execution_count": 17,
      "outputs": []
    },
    {
      "cell_type": "code",
      "source": [
        "model = CNNModel().to(device)\n",
        "criterion = nn.CrossEntropyLoss()\n",
        "optimizer = optim.Adam(model.parameters(), lr=0.001)\n"
      ],
      "metadata": {
        "id": "hIBAX-sWGoRt"
      },
      "execution_count": 21,
      "outputs": []
    },
    {
      "cell_type": "markdown",
      "source": [
        "# Model Training\n",
        "Train the CNN model with the prepared data:\n",
        "1. **Implement the training loop**: Iterate over the training data, perform forward and backward passes, and update the model weights.\n",
        "2. **Monitor the training**: Track the training loss and accuracy to ensure the model is learning."
      ],
      "metadata": {
        "id": "QsomNsI_yczc"
      }
    },
    {
      "cell_type": "code",
      "source": [
        "num_epochs = 25\n",
        "\n",
        "for epoch in range(num_epochs):\n",
        "    model.train()\n",
        "    running_loss = 0.0\n",
        "    correct = 0\n",
        "    total = 0\n",
        "\n",
        "    for images, labels in train_loader:\n",
        "        images, labels = images.to(device), labels.to(device)\n",
        "        optimizer.zero_grad()\n",
        "        outputs = model(images)\n",
        "        loss = criterion(outputs, labels)\n",
        "        loss.backward()\n",
        "        optimizer.step()\n",
        "\n",
        "        running_loss += loss.item()\n",
        "        _, predicted = torch.max(outputs.data, 1)\n",
        "        total += labels.size(0)\n",
        "        correct += (predicted == labels).sum().item()\n",
        "\n",
        "    train_loss = running_loss / len(train_loader)\n",
        "    train_accuracy = correct / total\n",
        "\n",
        "    print(f\"Epoch [{epoch + 1}/{num_epochs}], Loss: {train_loss:.4f}, Accuracy: {train_accuracy:.4f}\")\n"
      ],
      "metadata": {
        "id": "TTIiptAGGrYB",
        "colab": {
          "base_uri": "https://localhost:8080/"
        },
        "outputId": "a4b598a9-8644-4cfa-920b-4dd354f9c705"
      },
      "execution_count": 24,
      "outputs": [
        {
          "output_type": "stream",
          "name": "stdout",
          "text": [
            "Epoch [1/25], Loss: 0.0658, Accuracy: 0.9831\n",
            "Epoch [2/25], Loss: 0.0599, Accuracy: 0.9881\n",
            "Epoch [3/25], Loss: 0.0396, Accuracy: 0.9887\n",
            "Epoch [4/25], Loss: 0.0315, Accuracy: 0.9900\n",
            "Epoch [5/25], Loss: 0.0306, Accuracy: 0.9906\n",
            "Epoch [6/25], Loss: 0.0108, Accuracy: 0.9981\n",
            "Epoch [7/25], Loss: 0.0178, Accuracy: 0.9956\n",
            "Epoch [8/25], Loss: 0.0302, Accuracy: 0.9931\n",
            "Epoch [9/25], Loss: 0.0587, Accuracy: 0.9831\n",
            "Epoch [10/25], Loss: 0.0467, Accuracy: 0.9906\n",
            "Epoch [11/25], Loss: 0.0702, Accuracy: 0.9812\n",
            "Epoch [12/25], Loss: 0.1384, Accuracy: 0.9600\n",
            "Epoch [13/25], Loss: 0.1116, Accuracy: 0.9794\n",
            "Epoch [14/25], Loss: 0.0534, Accuracy: 0.9850\n",
            "Epoch [15/25], Loss: 0.0299, Accuracy: 0.9931\n",
            "Epoch [16/25], Loss: 0.0049, Accuracy: 0.9994\n",
            "Epoch [17/25], Loss: 0.0009, Accuracy: 1.0000\n",
            "Epoch [18/25], Loss: 0.0005, Accuracy: 1.0000\n",
            "Epoch [19/25], Loss: 0.0004, Accuracy: 1.0000\n",
            "Epoch [20/25], Loss: 0.0003, Accuracy: 1.0000\n",
            "Epoch [21/25], Loss: 0.0003, Accuracy: 1.0000\n",
            "Epoch [22/25], Loss: 0.0002, Accuracy: 1.0000\n",
            "Epoch [23/25], Loss: 0.0002, Accuracy: 1.0000\n",
            "Epoch [24/25], Loss: 0.0002, Accuracy: 1.0000\n",
            "Epoch [25/25], Loss: 0.0002, Accuracy: 1.0000\n"
          ]
        }
      ]
    },
    {
      "cell_type": "markdown",
      "source": [
        "# Prediction\n",
        "Use the trained model to make predictions on test data:\n",
        "1. **Implement the prediction function**: Use the trained model to generate predictions on the validation data (hint: you may need to loop over the images and labels provided in the `val_loader`)\n",
        "2. **Evaluate the model's performance**: Calculate metrics like accuracy, precision, recall, etc., to assess the model's performance.\n",
        "3. **Visualize the results**: Display the predicted vs actual labels to visually inspect the model's performance.\n",
        "4. **Try predicting on an actual image**: Provide an image to the model to make a prediction"
      ],
      "metadata": {
        "id": "f_b5-v1dynRo"
      }
    },
    {
      "cell_type": "code",
      "source": [
        "from sklearn.metrics import accuracy_score, precision_score, recall_score, f1_score, confusion_matrix, classification_report\n",
        "import matplotlib.pyplot as plt\n",
        "model.eval()\n",
        "val_loss = 0.0\n",
        "correct = 0\n",
        "total = 0\n",
        "all_labels = []\n",
        "all_preds = []\n",
        "with torch.no_grad():\n",
        "    for images, labels in val_loader:\n",
        "          images, labels = images.to(device), labels.to(device)  # Move data to the device\n",
        "          outputs = model(images)\n",
        "          loss = criterion(outputs, labels)\n",
        "          val_loss += loss.item()\n",
        "          _, predicted = torch.max(outputs.data, 1)\n",
        "          total += labels.size(0)\n",
        "          correct += (predicted == labels).sum().item()\n",
        "          all_labels.extend(labels.cpu().numpy())\n",
        "          all_preds.extend(predicted.cpu().numpy())\n",
        "\n",
        "val_loss /= len(val_loader)\n",
        "val_accuracy = correct / total\n",
        "\n",
        "print(f\"Validation Loss: {val_loss:.4f}, Validation Accuracy: {val_accuracy:.4f}\")\n",
        "\n",
        "precision = precision_score(all_labels, all_preds, average='weighted')\n",
        "recall = recall_score(all_labels, all_preds, average='weighted')\n",
        "f1 = f1_score(all_labels, all_preds, average='weighted')\n",
        "\n",
        "print(f\"Precision: {precision:.4f}, Recall: {recall:.4f}, F1-score: {f1:.4f}\")\n",
        "\n",
        "print(classification_report(all_labels, all_preds, target_names=train_dataset.classes))\n",
        "\n",
        "cm = confusion_matrix(all_labels, all_preds)\n",
        "print(\"Confusion Matrix:\\n\", cm)\n",
        "\n",
        "    # Visualize some predictions\n",
        "fig, axes = plt.subplots(1, 5, figsize=(15, 3))\n",
        "for i, ax in enumerate(axes):\n",
        "      img, label = val_subset[i]\n",
        "      img = img.unsqueeze(0).to(device)\n",
        "      model.eval()\n",
        "      with torch.no_grad():\n",
        "            output = model(img)\n",
        "            _, pred = torch.max(output, 1)\n",
        "      ax.imshow(img.cpu().squeeze().permute(1, 2, 0))\n",
        "      ax.set_title(f\"Label: {train_dataset.classes[label]}\\nPred: {train_dataset.classes[pred.item()]}\")\n",
        "      ax.axis('off')\n",
        "plt.show()"
      ],
      "metadata": {
        "id": "-4-jSXMCGvmt",
        "colab": {
          "base_uri": "https://localhost:8080/",
          "height": 1000
        },
        "outputId": "0dcadc7f-9f55-44c6-ef4e-22ca73100e64"
      },
      "execution_count": 25,
      "outputs": [
        {
          "output_type": "stream",
          "name": "stderr",
          "text": [
            "/usr/local/lib/python3.10/dist-packages/sklearn/metrics/_classification.py:1344: UndefinedMetricWarning: Precision is ill-defined and being set to 0.0 in labels with no predicted samples. Use `zero_division` parameter to control this behavior.\n",
            "  _warn_prf(average, modifier, msg_start, len(result))\n",
            "/usr/local/lib/python3.10/dist-packages/sklearn/metrics/_classification.py:1344: UndefinedMetricWarning: Recall is ill-defined and being set to 0.0 in labels with no true samples. Use `zero_division` parameter to control this behavior.\n",
            "  _warn_prf(average, modifier, msg_start, len(result))\n",
            "/usr/local/lib/python3.10/dist-packages/sklearn/metrics/_classification.py:1344: UndefinedMetricWarning: Precision and F-score are ill-defined and being set to 0.0 in labels with no predicted samples. Use `zero_division` parameter to control this behavior.\n",
            "  _warn_prf(average, modifier, msg_start, len(result))\n",
            "/usr/local/lib/python3.10/dist-packages/sklearn/metrics/_classification.py:1344: UndefinedMetricWarning: Recall and F-score are ill-defined and being set to 0.0 in labels with no true samples. Use `zero_division` parameter to control this behavior.\n",
            "  _warn_prf(average, modifier, msg_start, len(result))\n",
            "/usr/local/lib/python3.10/dist-packages/sklearn/metrics/_classification.py:1344: UndefinedMetricWarning: Precision and F-score are ill-defined and being set to 0.0 in labels with no predicted samples. Use `zero_division` parameter to control this behavior.\n",
            "  _warn_prf(average, modifier, msg_start, len(result))\n",
            "/usr/local/lib/python3.10/dist-packages/sklearn/metrics/_classification.py:1344: UndefinedMetricWarning: Recall and F-score are ill-defined and being set to 0.0 in labels with no true samples. Use `zero_division` parameter to control this behavior.\n",
            "  _warn_prf(average, modifier, msg_start, len(result))\n",
            "/usr/local/lib/python3.10/dist-packages/sklearn/metrics/_classification.py:1344: UndefinedMetricWarning: Precision and F-score are ill-defined and being set to 0.0 in labels with no predicted samples. Use `zero_division` parameter to control this behavior.\n",
            "  _warn_prf(average, modifier, msg_start, len(result))\n",
            "/usr/local/lib/python3.10/dist-packages/sklearn/metrics/_classification.py:1344: UndefinedMetricWarning: Recall and F-score are ill-defined and being set to 0.0 in labels with no true samples. Use `zero_division` parameter to control this behavior.\n",
            "  _warn_prf(average, modifier, msg_start, len(result))\n",
            "WARNING:matplotlib.image:Clipping input data to the valid range for imshow with RGB data ([0..1] for floats or [0..255] for integers).\n",
            "WARNING:matplotlib.image:Clipping input data to the valid range for imshow with RGB data ([0..1] for floats or [0..255] for integers).\n",
            "WARNING:matplotlib.image:Clipping input data to the valid range for imshow with RGB data ([0..1] for floats or [0..255] for integers).\n"
          ]
        },
        {
          "output_type": "stream",
          "name": "stdout",
          "text": [
            "Validation Loss: 1.2608, Validation Accuracy: 0.8400\n",
            "Precision: 0.8510, Recall: 0.8400, F1-score: 0.8354\n",
            "              precision    recall  f1-score   support\n",
            "\n",
            "           0       0.00      0.00      0.00         1\n",
            "           1       0.76      0.85      0.80        26\n",
            "          10       0.91      1.00      0.95        20\n",
            "          11       0.91      0.77      0.83        13\n",
            "          12       1.00      0.97      0.98        29\n",
            "          13       1.00      0.83      0.91        12\n",
            "          14       0.88      1.00      0.93         7\n",
            "          15       1.00      1.00      1.00         3\n",
            "          16       1.00      0.83      0.91         6\n",
            "          17       1.00      1.00      1.00        12\n",
            "          18       0.88      0.64      0.74        11\n",
            "          19       1.00      1.00      1.00         3\n",
            "           2       0.86      0.95      0.90        20\n",
            "          20       0.75      1.00      0.86         3\n",
            "          21       1.00      1.00      1.00         3\n",
            "          22       1.00      0.67      0.80         6\n",
            "          23       1.00      0.33      0.50         3\n",
            "          24       1.00      0.33      0.50         3\n",
            "          25       0.71      0.86      0.77        14\n",
            "          26       0.60      1.00      0.75         3\n",
            "          27       0.67      1.00      0.80         4\n",
            "          28       1.00      1.00      1.00         5\n",
            "          29       0.00      0.00      0.00         1\n",
            "           3       0.95      0.81      0.88        26\n",
            "          30       0.75      0.75      0.75         4\n",
            "          31       0.67      1.00      0.80         6\n",
            "          32       0.33      1.00      0.50         1\n",
            "          33       0.86      0.50      0.63        12\n",
            "          34       0.60      0.60      0.60         5\n",
            "          35       0.62      1.00      0.76         8\n",
            "          36       1.00      0.80      0.89         5\n",
            "          37       0.00      0.00      0.00         2\n",
            "          38       0.92      0.96      0.94        23\n",
            "          39       0.00      0.00      0.00         0\n",
            "           4       0.68      0.74      0.71        23\n",
            "          40       1.00      1.00      1.00         6\n",
            "          41       0.00      0.00      0.00         3\n",
            "          42       1.00      0.75      0.86         4\n",
            "           5       0.70      0.80      0.74        20\n",
            "           6       0.89      0.89      0.89         9\n",
            "           7       0.90      0.82      0.86        11\n",
            "           8       0.83      0.91      0.87        11\n",
            "           9       1.00      0.85      0.92        13\n",
            "\n",
            "    accuracy                           0.84       400\n",
            "   macro avg       0.76      0.75      0.73       400\n",
            "weighted avg       0.85      0.84      0.84       400\n",
            "\n",
            "Confusion Matrix:\n",
            " [[ 0  1  0 ...  0  0  0]\n",
            " [ 0 22  0 ...  0  0  0]\n",
            " [ 0  0 20 ...  0  0  0]\n",
            " ...\n",
            " [ 0  0  0 ...  9  1  0]\n",
            " [ 0  0  0 ...  0 10  0]\n",
            " [ 0  0  1 ...  0  0 11]]\n"
          ]
        },
        {
          "output_type": "stream",
          "name": "stderr",
          "text": [
            "WARNING:matplotlib.image:Clipping input data to the valid range for imshow with RGB data ([0..1] for floats or [0..255] for integers).\n",
            "WARNING:matplotlib.image:Clipping input data to the valid range for imshow with RGB data ([0..1] for floats or [0..255] for integers).\n"
          ]
        },
        {
          "output_type": "display_data",
          "data": {
            "text/plain": [
              "<Figure size 1500x300 with 5 Axes>"
            ],
            "image/png": "[encoded data removed]"
          },
          "metadata": {}
        }
      ]
    },
    {
      "cell_type": "code",
      "source": [
        "def predict_image(image_path):\n",
        "    transform = data_transforms\n",
        "    image = Image.open(image_path)\n",
        "    image = transform(image).unsqueeze(0).to(device)\n",
        "    model.eval()\n",
        "    with torch.no_grad():\n",
        "        output = model(image)\n",
        "        _, pred = torch.max(output, 1)\n",
        "    return train_dataset.classes[pred.item()]\n",
        "\n",
        "image_path = '/content/drive/MyDrive/GTSRB/Test/00000.png'\n",
        "prediction = predict_image(image_path)\n",
        "print(f\"Predicted class: {prediction}\")"
      ],
      "metadata": {
        "id": "9HBaZqJUG0Bc",
        "colab": {
          "base_uri": "https://localhost:8080/"
        },
        "outputId": "a005f921-80d8-4c2c-94d8-0ad4ee9fd9ca"
      },
      "execution_count": 26,
      "outputs": [
        {
          "output_type": "stream",
          "name": "stdout",
          "text": [
            "Predicted class: 16\n"
          ]
        }
      ]
    },
    {
      "cell_type": "code",
      "source": [],
      "metadata": {
        "id": "IGKIxVRCIDTA"
      },
      "execution_count": null,
      "outputs": []
    }
  ]
}